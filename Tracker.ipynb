{
  "nbformat": 4,
  "nbformat_minor": 0,
  "metadata": {
    "kernelspec": {
      "display_name": "Python 3",
      "language": "python",
      "name": "python3"
    },
    "language_info": {
      "codemirror_mode": {
        "name": "ipython",
        "version": 3
      },
      "file_extension": ".py",
      "mimetype": "text/x-python",
      "name": "python",
      "nbconvert_exporter": "python",
      "pygments_lexer": "ipython3",
      "version": "3.8.5"
    },
    "colab": {
      "name": "Tracker.ipynb",
      "provenance": [],
      "collapsed_sections": [],
      "include_colab_link": true
    }
  },
  "cells": [
    {
      "cell_type": "markdown",
      "metadata": {
        "id": "view-in-github",
        "colab_type": "text"
      },
      "source": [
        "<a href=\"https://colab.research.google.com/github/gaeunkim0721/Object-Detection/blob/main/Tracker.ipynb\" target=\"_parent\"><img src=\"https://colab.research.google.com/assets/colab-badge.svg\" alt=\"Open In Colab\"/></a>"
      ]
    },
    {
      "cell_type": "code",
      "metadata": {
        "id": "Kg6Ni49BLM-l",
        "outputId": "96fce6ee-7105-4df4-a326-d5e6982849a7"
      },
      "source": [
        "import cv2\n",
        "from tracker import *\n",
        "\n",
        "# Create tracker object\n",
        "tracker = EuclideanDistTracker()\n",
        "\n",
        "cap = cv2.VideoCapture(\"pklot.mp4\")\n",
        "\n",
        "# Object detection from Stable camera\n",
        "object_detector = cv2.createBackgroundSubtractorMOG2(history=2000, varThreshold=1000)\n",
        "\n",
        "while True:\n",
        "    ret, frame = cap.read()\n",
        "    height, width, _ = frame.shape\n",
        "\n",
        "    # Extract Region of interest\n",
        "    roi = frame[92: 250,295: 500]\n",
        "\n",
        "    # 1. Object Detection\n",
        "    mask = object_detector.apply(roi)\n",
        "    _, mask = cv2.threshold(mask, 254, 255, cv2.THRESH_BINARY)\n",
        "    contours, _ = cv2.findContours(mask, cv2.RETR_TREE, cv2.CHAIN_APPROX_SIMPLE)\n",
        "    detections = []\n",
        "    for cnt in contours:\n",
        "        # Calculate area and remove small elements\n",
        "        area = cv2.contourArea(cnt)\n",
        "        if area > 3000:\n",
        "            #cv2.drawContours(roi, [cnt], -1, (0, 255, 0), 2)\n",
        "            x, y, w, h = cv2.boundingRect(cnt)\n",
        "\n",
        "\n",
        "            detections.append([x, y, w, h])\n",
        "\n",
        "    # 2. Object Tracking\n",
        "    boxes_ids = tracker.update(detections)\n",
        "    for box_id in boxes_ids:\n",
        "        x, y, w, h, id = box_id\n",
        "        cv2.putText(roi, str(id), (x, y - 15), cv2.FONT_HERSHEY_PLAIN, 2, (255, 0, 0), 2)\n",
        "        cv2.rectangle(roi, (x, y), (x + w, y + h), (0, 255, 0), 3)\n",
        "\n",
        "    cv2.imshow(\"roi\", roi)\n",
        "    cv2.imshow(\"Frame\", frame)\n",
        "    cv2.imshow(\"Mask\", mask)\n",
        "\n",
        "    key = cv2.waitKey(30)\n",
        "    if key == 27:\n",
        "        break\n",
        "\n",
        "cap.release()\n",
        "cv2.destroyAllWindows()"
      ],
      "execution_count": null,
      "outputs": [
        {
          "output_type": "stream",
          "text": [
            "{0: (158, 132)}\n",
            "{0: (159, 132)}\n",
            "{0: (160, 132)}\n",
            "{0: (159, 132)}\n",
            "{0: (159, 132)}\n",
            "{1: (159, 133)}\n",
            "{1: (159, 133)}\n",
            "{1: (157, 131)}\n",
            "{1: (156, 130)}\n",
            "{1: (156, 130)}\n",
            "{1: (155, 129)}\n",
            "{1: (154, 123)}\n"
          ],
          "name": "stdout"
        }
      ]
    },
    {
      "cell_type": "code",
      "metadata": {
        "id": "ZHL2FaF8LM-r"
      },
      "source": [
        "import math\n",
        "\n",
        "\n",
        "class EuclideanDistTracker:\n",
        "    def __init__(self):\n",
        "        # Store the center positions of the objects\n",
        "        self.center_points = {}\n",
        "        # Keep the count of the IDs\n",
        "        # each time a new object id detected, the count will increase by one\n",
        "        self.id_count = 0\n",
        "\n",
        "\n",
        "    def update(self, objects_rect):\n",
        "        # Objects boxes and ids\n",
        "        objects_bbs_ids = []\n",
        "\n",
        "        # Get center point of new object\n",
        "        for rect in objects_rect:\n",
        "            x, y, w, h = rect\n",
        "            cx = (x + x + w) // 2\n",
        "            cy = (y + y + h) // 2\n",
        "\n",
        "            # Find out if that object was detected already\n",
        "            same_object_detected = False\n",
        "            for id, pt in self.center_points.items():\n",
        "                dist = math.hypot(cx - pt[0], cy - pt[1])\n",
        "\n",
        "                if dist < 25:\n",
        "                    self.center_points[id] = (cx, cy)\n",
        "                    print(self.center_points)\n",
        "                    objects_bbs_ids.append([x, y, w, h, id])\n",
        "                    same_object_detected = True\n",
        "                    break\n",
        "\n",
        "            # New object is detected we assign the ID to that object\n",
        "            if same_object_detected is False:\n",
        "                self.center_points[self.id_count] = (cx, cy)\n",
        "                objects_bbs_ids.append([x, y, w, h, self.id_count])\n",
        "                self.id_count += 1\n",
        "\n",
        "        # Clean the dictionary by center points to remove IDS not used anymore\n",
        "        new_center_points = {}\n",
        "        for obj_bb_id in objects_bbs_ids:\n",
        "            _, _, _, _, object_id = obj_bb_id\n",
        "            center = self.center_points[object_id]\n",
        "            new_center_points[object_id] = center\n",
        "\n",
        "        # Update dictionary with IDs not used removed\n",
        "        self.center_points = new_center_points.copy()\n",
        "        return objects_bbs_ids"
      ],
      "execution_count": null,
      "outputs": []
    },
    {
      "cell_type": "code",
      "metadata": {
        "id": "O99PJvhOLM-s"
      },
      "source": [
        ""
      ],
      "execution_count": null,
      "outputs": []
    },
    {
      "cell_type": "code",
      "metadata": {
        "id": "EPi1R7tqLM-s"
      },
      "source": [
        ""
      ],
      "execution_count": null,
      "outputs": []
    }
  ]
}